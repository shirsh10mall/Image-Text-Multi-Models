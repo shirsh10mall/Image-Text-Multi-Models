{
 "cells": [
  {
   "cell_type": "markdown",
   "id": "30c89030",
   "metadata": {
    "papermill": {
     "duration": 0.007734,
     "end_time": "2023-08-22T12:11:33.029866",
     "exception": false,
     "start_time": "2023-08-22T12:11:33.022132",
     "status": "completed"
    },
    "tags": []
   },
   "source": [
    "# Project: Image Retrieval using CLIP Model \n",
    "### Dataset: \n",
    "1. Web Scraped Google Images + Caption from ChatGPT \n",
    "2. Google's Conceptual Captioning Dataset Collection\n",
    "\n",
    "### Notebooks:\n",
    "\n",
    "* Notebook 1: Dataset Collection\n",
    "* Notebook 2: Training CLIP Model\n",
    "* Notebook 3: Evaluation and Inference\n",
    "* Model Deployment: Docker + FastAPI "
   ]
  },
  {
   "cell_type": "markdown",
   "id": "c91ded06",
   "metadata": {
    "papermill": {
     "duration": 0.006409,
     "end_time": "2023-08-22T12:11:33.043055",
     "exception": false,
     "start_time": "2023-08-22T12:11:33.036646",
     "status": "completed"
    },
    "tags": []
   },
   "source": [
    "# Importing Libraries"
   ]
  },
  {
   "cell_type": "code",
   "execution_count": 1,
   "id": "20723660",
   "metadata": {
    "execution": {
     "iopub.execute_input": "2023-08-22T12:11:33.059532Z",
     "iopub.status.busy": "2023-08-22T12:11:33.058128Z",
     "iopub.status.idle": "2023-08-22T12:11:49.518179Z",
     "shell.execute_reply": "2023-08-22T12:11:49.516418Z"
    },
    "papermill": {
     "duration": 16.471402,
     "end_time": "2023-08-22T12:11:49.521168",
     "exception": false,
     "start_time": "2023-08-22T12:11:33.049766",
     "status": "completed"
    },
    "scrolled": true,
    "tags": []
   },
   "outputs": [
    {
     "name": "stdout",
     "output_type": "stream",
     "text": [
      "Requirement already satisfied: datasets in /opt/conda/lib/python3.10/site-packages (2.1.0)\r\n",
      "Requirement already satisfied: numpy>=1.17 in /opt/conda/lib/python3.10/site-packages (from datasets) (1.23.5)\r\n",
      "Requirement already satisfied: pyarrow>=5.0.0 in /opt/conda/lib/python3.10/site-packages (from datasets) (9.0.0)\r\n",
      "Requirement already satisfied: dill in /opt/conda/lib/python3.10/site-packages (from datasets) (0.3.6)\r\n",
      "Requirement already satisfied: pandas in /opt/conda/lib/python3.10/site-packages (from datasets) (1.5.3)\r\n",
      "Requirement already satisfied: requests>=2.19.0 in /opt/conda/lib/python3.10/site-packages (from datasets) (2.31.0)\r\n",
      "Requirement already satisfied: tqdm>=4.62.1 in /opt/conda/lib/python3.10/site-packages (from datasets) (4.65.0)\r\n",
      "Requirement already satisfied: xxhash in /opt/conda/lib/python3.10/site-packages (from datasets) (3.2.0)\r\n",
      "Requirement already satisfied: multiprocess in /opt/conda/lib/python3.10/site-packages (from datasets) (0.70.14)\r\n",
      "Requirement already satisfied: fsspec[http]>=2021.05.0 in /opt/conda/lib/python3.10/site-packages (from datasets) (2023.6.0)\r\n",
      "Requirement already satisfied: aiohttp in /opt/conda/lib/python3.10/site-packages (from datasets) (3.8.4)\r\n",
      "Requirement already satisfied: huggingface-hub<1.0.0,>=0.1.0 in /opt/conda/lib/python3.10/site-packages (from datasets) (0.16.4)\r\n",
      "Requirement already satisfied: packaging in /opt/conda/lib/python3.10/site-packages (from datasets) (21.3)\r\n",
      "Requirement already satisfied: responses<0.19 in /opt/conda/lib/python3.10/site-packages (from datasets) (0.18.0)\r\n",
      "Requirement already satisfied: attrs>=17.3.0 in /opt/conda/lib/python3.10/site-packages (from aiohttp->datasets) (23.1.0)\r\n",
      "Requirement already satisfied: charset-normalizer<4.0,>=2.0 in /opt/conda/lib/python3.10/site-packages (from aiohttp->datasets) (3.1.0)\r\n",
      "Requirement already satisfied: multidict<7.0,>=4.5 in /opt/conda/lib/python3.10/site-packages (from aiohttp->datasets) (6.0.4)\r\n",
      "Requirement already satisfied: async-timeout<5.0,>=4.0.0a3 in /opt/conda/lib/python3.10/site-packages (from aiohttp->datasets) (4.0.2)\r\n",
      "Requirement already satisfied: yarl<2.0,>=1.0 in /opt/conda/lib/python3.10/site-packages (from aiohttp->datasets) (1.9.2)\r\n",
      "Requirement already satisfied: frozenlist>=1.1.1 in /opt/conda/lib/python3.10/site-packages (from aiohttp->datasets) (1.3.3)\r\n",
      "Requirement already satisfied: aiosignal>=1.1.2 in /opt/conda/lib/python3.10/site-packages (from aiohttp->datasets) (1.3.1)\r\n",
      "Requirement already satisfied: filelock in /opt/conda/lib/python3.10/site-packages (from huggingface-hub<1.0.0,>=0.1.0->datasets) (3.12.2)\r\n",
      "Requirement already satisfied: pyyaml>=5.1 in /opt/conda/lib/python3.10/site-packages (from huggingface-hub<1.0.0,>=0.1.0->datasets) (6.0)\r\n",
      "Requirement already satisfied: typing-extensions>=3.7.4.3 in /opt/conda/lib/python3.10/site-packages (from huggingface-hub<1.0.0,>=0.1.0->datasets) (4.6.3)\r\n",
      "Requirement already satisfied: pyparsing!=3.0.5,>=2.0.2 in /opt/conda/lib/python3.10/site-packages (from packaging->datasets) (3.0.9)\r\n",
      "Requirement already satisfied: idna<4,>=2.5 in /opt/conda/lib/python3.10/site-packages (from requests>=2.19.0->datasets) (3.4)\r\n",
      "Requirement already satisfied: urllib3<3,>=1.21.1 in /opt/conda/lib/python3.10/site-packages (from requests>=2.19.0->datasets) (1.26.15)\r\n",
      "Requirement already satisfied: certifi>=2017.4.17 in /opt/conda/lib/python3.10/site-packages (from requests>=2.19.0->datasets) (2023.5.7)\r\n",
      "Requirement already satisfied: python-dateutil>=2.8.1 in /opt/conda/lib/python3.10/site-packages (from pandas->datasets) (2.8.2)\r\n",
      "Requirement already satisfied: pytz>=2020.1 in /opt/conda/lib/python3.10/site-packages (from pandas->datasets) (2023.3)\r\n",
      "Requirement already satisfied: six>=1.5 in /opt/conda/lib/python3.10/site-packages (from python-dateutil>=2.8.1->pandas->datasets) (1.16.0)\r\n"
     ]
    }
   ],
   "source": [
    "!pip install datasets"
   ]
  },
  {
   "cell_type": "code",
   "execution_count": 2,
   "id": "6a167c6c",
   "metadata": {
    "execution": {
     "iopub.execute_input": "2023-08-22T12:11:49.539253Z",
     "iopub.status.busy": "2023-08-22T12:11:49.538837Z",
     "iopub.status.idle": "2023-08-22T12:11:50.716161Z",
     "shell.execute_reply": "2023-08-22T12:11:50.714854Z"
    },
    "papermill": {
     "duration": 1.190063,
     "end_time": "2023-08-22T12:11:50.719055",
     "exception": false,
     "start_time": "2023-08-22T12:11:49.528992",
     "status": "completed"
    },
    "tags": []
   },
   "outputs": [],
   "source": [
    "import pandas as pd\n",
    "from datasets import Dataset, load_dataset, load_from_disk, concatenate_datasets\n",
    "import os\n",
    "import threading\n",
    "import requests\n",
    "from PIL import Image\n",
    "import numpy as np\n",
    "import matplotlib.pyplot as plt\n",
    "from io import BytesIO\n",
    "import shutil"
   ]
  },
  {
   "cell_type": "markdown",
   "id": "77b094ec",
   "metadata": {
    "papermill": {
     "duration": 0.007002,
     "end_time": "2023-08-22T12:11:50.733416",
     "exception": false,
     "start_time": "2023-08-22T12:11:50.726414",
     "status": "completed"
    },
    "tags": []
   },
   "source": [
    "# Data Collection"
   ]
  },
  {
   "cell_type": "code",
   "execution_count": 3,
   "id": "150e4d58",
   "metadata": {
    "execution": {
     "iopub.execute_input": "2023-08-22T12:11:50.750939Z",
     "iopub.status.busy": "2023-08-22T12:11:50.749510Z",
     "iopub.status.idle": "2023-08-22T12:12:36.651273Z",
     "shell.execute_reply": "2023-08-22T12:12:36.649807Z"
    },
    "papermill": {
     "duration": 45.91319,
     "end_time": "2023-08-22T12:12:36.653977",
     "exception": false,
     "start_time": "2023-08-22T12:11:50.740787",
     "status": "completed"
    },
    "tags": []
   },
   "outputs": [
    {
     "data": {
      "application/vnd.jupyter.widget-view+json": {
       "model_id": "c7c0458f67dd4b57a0f371890cb2b8f6",
       "version_major": 2,
       "version_minor": 0
      },
      "text/plain": [
       "  0%|          | 0/3319 [00:00<?, ?ba/s]"
      ]
     },
     "metadata": {},
     "output_type": "display_data"
    },
    {
     "data": {
      "text/plain": [
       "Dataset({\n",
       "    features: ['caption', 'image_url'],\n",
       "    num_rows: 65000\n",
       "})"
      ]
     },
     "execution_count": 3,
     "metadata": {},
     "output_type": "execute_result"
    }
   ],
   "source": [
    "dataset = pd.read_csv(\"/kaggle/input/gcc-clip/Train_GCC-training.tsv\", sep=\"\\t\", header=None)\n",
    "dataset = dataset.rename(columns={0: \"caption\", 1: \"image_url\"})\n",
    "dataset = Dataset.from_pandas(dataset)\n",
    "dataset = dataset.filter(lambda example, idx: idx < 65000, with_indices=True)\n",
    "dataset"
   ]
  },
  {
   "cell_type": "code",
   "execution_count": 4,
   "id": "a291217e",
   "metadata": {
    "execution": {
     "iopub.execute_input": "2023-08-22T12:12:36.671759Z",
     "iopub.status.busy": "2023-08-22T12:12:36.671314Z",
     "iopub.status.idle": "2023-08-22T12:12:36.679479Z",
     "shell.execute_reply": "2023-08-22T12:12:36.678402Z"
    },
    "papermill": {
     "duration": 0.019625,
     "end_time": "2023-08-22T12:12:36.681779",
     "exception": false,
     "start_time": "2023-08-22T12:12:36.662154",
     "status": "completed"
    },
    "tags": []
   },
   "outputs": [
    {
     "name": "stdout",
     "output_type": "stream",
     "text": [
      "Number of available processors: 4\n",
      "Number of active threads: 8\n"
     ]
    }
   ],
   "source": [
    "# Get the number of available processors\n",
    "num_processors = os.cpu_count()\n",
    "\n",
    "# Get the number of active threads (including main thread)\n",
    "num_threads = threading.active_count()\n",
    "\n",
    "print(\"Number of available processors:\", num_processors)\n",
    "print(\"Number of active threads:\", num_threads)"
   ]
  },
  {
   "cell_type": "code",
   "execution_count": 5,
   "id": "aefdc836",
   "metadata": {
    "execution": {
     "iopub.execute_input": "2023-08-22T12:12:36.701465Z",
     "iopub.status.busy": "2023-08-22T12:12:36.701073Z",
     "iopub.status.idle": "2023-08-22T12:12:36.712279Z",
     "shell.execute_reply": "2023-08-22T12:12:36.711012Z"
    },
    "papermill": {
     "duration": 0.023749,
     "end_time": "2023-08-22T12:12:36.714987",
     "exception": false,
     "start_time": "2023-08-22T12:12:36.691238",
     "status": "completed"
    },
    "tags": []
   },
   "outputs": [],
   "source": [
    "def download_and_process_images(instance):\n",
    "    session = requests.Session()\n",
    "    try:\n",
    "        image_url = instance[\"image_url\"]\n",
    "\n",
    "        # Send a GET request to the image URL with a timeout\n",
    "        response = session.get(image_url, timeout=1)  # Adjust the timeout as needed\n",
    "\n",
    "        # Check if the request was successful\n",
    "        if response.status_code == 200:\n",
    "            # Load the image using PIL (Python Imaging Library)\n",
    "            image = Image.open(BytesIO(response.content))\n",
    "            \n",
    "#             if image.size[0]>512:\n",
    "#                 image = image.resize((512, image.size[1]))\n",
    "#             elif image.size[1]>512:\n",
    "#                 image = image.resize((image.size[0], 512))\n",
    "\n",
    "            instance[\"image_data\"] = image\n",
    "            instance[\"drop_this_row\"] = \"no\"\n",
    "        else:\n",
    "            instance[\"image_data\"] = Image.fromarray(np.zeros((8,8,3),dtype=np.uint8))\n",
    "            instance[\"drop_this_row\"] = \"yes\"\n",
    "\n",
    "    except requests.exceptions.Timeout:\n",
    "        instance[\"image_data\"] = Image.fromarray(np.zeros((8,8,3),dtype=np.uint8))\n",
    "        instance[\"drop_this_row\"] = \"yes\"\n",
    "        # print(\"Timeout occurred for:\", image_url)\n",
    "        \n",
    "    except Exception as e:\n",
    "        instance[\"image_data\"] = Image.fromarray(np.zeros((8,8,3),dtype=np.uint8))\n",
    "        instance[\"drop_this_row\"] = \"yes\"\n",
    "        # print(\"Error occurred for:\", image_url, \"Error:\", str(e))\n",
    "    session.close()\n",
    "    return instance"
   ]
  },
  {
   "cell_type": "code",
   "execution_count": 6,
   "id": "ab16206c",
   "metadata": {
    "execution": {
     "iopub.execute_input": "2023-08-22T12:12:36.734184Z",
     "iopub.status.busy": "2023-08-22T12:12:36.733792Z",
     "iopub.status.idle": "2023-08-22T18:54:47.605174Z",
     "shell.execute_reply": "2023-08-22T18:54:47.603176Z"
    },
    "papermill": {
     "duration": 24130.88448,
     "end_time": "2023-08-22T18:54:47.608657",
     "exception": false,
     "start_time": "2023-08-22T12:12:36.724177",
     "status": "completed"
    },
    "tags": []
   },
   "outputs": [
    {
     "data": {
      "application/vnd.jupyter.widget-view+json": {
       "model_id": "0837cd40b672491d9d2c963d17527889",
       "version_major": 2,
       "version_minor": 0
      },
      "text/plain": [
       "  0%|          | 0/65000 [00:00<?, ?ex/s]"
      ]
     },
     "metadata": {},
     "output_type": "display_data"
    },
    {
     "name": "stderr",
     "output_type": "stream",
     "text": [
      "/opt/conda/lib/python3.10/site-packages/PIL/TiffImagePlugin.py:864: UserWarning: Corrupt EXIF data.  Expecting to read 2 bytes but only got 0. \n",
      "  warnings.warn(str(msg))\n"
     ]
    }
   ],
   "source": [
    "dataset = dataset.map(download_and_process_images, batched=False ) # num_proc=1"
   ]
  },
  {
   "cell_type": "code",
   "execution_count": 7,
   "id": "2b6dda20",
   "metadata": {
    "execution": {
     "iopub.execute_input": "2023-08-22T18:54:47.630492Z",
     "iopub.status.busy": "2023-08-22T18:54:47.629936Z",
     "iopub.status.idle": "2023-08-22T18:58:26.761610Z",
     "shell.execute_reply": "2023-08-22T18:58:26.760806Z"
    },
    "papermill": {
     "duration": 219.150718,
     "end_time": "2023-08-22T18:58:26.768521",
     "exception": false,
     "start_time": "2023-08-22T18:54:47.617803",
     "status": "completed"
    },
    "tags": []
   },
   "outputs": [
    {
     "data": {
      "application/vnd.jupyter.widget-view+json": {
       "model_id": "74cdaae753ac489e98804421013964a3",
       "version_major": 2,
       "version_minor": 0
      },
      "text/plain": [
       "  0%|          | 0/65 [00:00<?, ?ba/s]"
      ]
     },
     "metadata": {},
     "output_type": "display_data"
    },
    {
     "data": {
      "text/plain": [
       "Dataset({\n",
       "    features: ['caption', 'image_data'],\n",
       "    num_rows: 53540\n",
       "})"
      ]
     },
     "execution_count": 7,
     "metadata": {},
     "output_type": "execute_result"
    }
   ],
   "source": [
    "dataset = dataset.filter(lambda instance: instance[\"drop_this_row\"] == \"no\", with_indices=False)\n",
    "dataset = dataset.remove_columns([\"drop_this_row\",\"image_url\"])\n",
    "dataset"
   ]
  },
  {
   "cell_type": "code",
   "execution_count": 8,
   "id": "852c8fc2",
   "metadata": {
    "execution": {
     "iopub.execute_input": "2023-08-22T18:58:26.788190Z",
     "iopub.status.busy": "2023-08-22T18:58:26.787717Z",
     "iopub.status.idle": "2023-08-22T18:59:12.046435Z",
     "shell.execute_reply": "2023-08-22T18:59:12.043267Z"
    },
    "papermill": {
     "duration": 45.275411,
     "end_time": "2023-08-22T18:59:12.052329",
     "exception": false,
     "start_time": "2023-08-22T18:58:26.776918",
     "status": "completed"
    },
    "tags": []
   },
   "outputs": [
    {
     "data": {
      "application/vnd.jupyter.widget-view+json": {
       "model_id": "7d83f17614f64a8ba060ab675f0f1236",
       "version_major": 2,
       "version_minor": 0
      },
      "text/plain": [
       "Flattening the indices:   0%|          | 0/54 [00:00<?, ?ba/s]"
      ]
     },
     "metadata": {},
     "output_type": "display_data"
    },
    {
     "name": "stdout",
     "output_type": "stream",
     "text": [
      "yo\n"
     ]
    }
   ],
   "source": [
    "try:\n",
    "    dataset.save_to_disk(\"/kaggle/working/Google_Conceptual_Caption_Dataset_Images_Captions\")\n",
    "except:\n",
    "    print(\"Error in saving dataset locally\")\n",
    "    \n",
    "print(\"yo\")"
   ]
  },
  {
   "cell_type": "code",
   "execution_count": 9,
   "id": "d76a93ee",
   "metadata": {
    "execution": {
     "iopub.execute_input": "2023-08-22T18:59:20.143090Z",
     "iopub.status.busy": "2023-08-22T18:59:20.140670Z",
     "iopub.status.idle": "2023-08-22T18:59:20.153327Z",
     "shell.execute_reply": "2023-08-22T18:59:20.151040Z"
    },
    "papermill": {
     "duration": 0.331007,
     "end_time": "2023-08-22T18:59:20.157094",
     "exception": false,
     "start_time": "2023-08-22T18:59:19.826087",
     "status": "completed"
    },
    "tags": []
   },
   "outputs": [],
   "source": [
    "# from huggingface_hub import notebook_login\n",
    "# from huggingface_hub import login\n",
    "\n",
    "# from kaggle_secrets import UserSecretsClient\n",
    "# user_secrets = UserSecretsClient()\n",
    "# secret_value_0 = user_secrets.get_secret(\"SHIRSH_HUGGINGFACE_API_KEY\")\n",
    "\n",
    "# login(token=secret_value_0, write_permission=True)\n",
    "# flag = False\n",
    "# try:\n",
    "#     dataset.push_to_hub(\"shirsh10mall/Image_Captioning_Dataset\")\n",
    "#     flag=True\n",
    "# except:\n",
    "#     print(\"Error in pushing dataset to Hugging Face\")"
   ]
  },
  {
   "cell_type": "code",
   "execution_count": 10,
   "id": "721a054d",
   "metadata": {
    "execution": {
     "iopub.execute_input": "2023-08-22T18:59:20.749330Z",
     "iopub.status.busy": "2023-08-22T18:59:20.748598Z",
     "iopub.status.idle": "2023-08-22T18:59:20.756630Z",
     "shell.execute_reply": "2023-08-22T18:59:20.755040Z"
    },
    "papermill": {
     "duration": 0.360065,
     "end_time": "2023-08-22T18:59:20.760377",
     "exception": false,
     "start_time": "2023-08-22T18:59:20.400312",
     "status": "completed"
    },
    "tags": []
   },
   "outputs": [],
   "source": [
    "# if flag:\n",
    "#     try:\n",
    "#         dataset.save_to_disk(\"/kaggle/working/Google_Conceptual_Caption_Dataset_Images_Captions\")\n",
    "#     except:\n",
    "#         print(\"Error in saving dataset locally\")\n",
    "        \n",
    "# dataset"
   ]
  },
  {
   "cell_type": "code",
   "execution_count": 11,
   "id": "d20b769b",
   "metadata": {
    "execution": {
     "iopub.execute_input": "2023-08-22T18:59:21.140091Z",
     "iopub.status.busy": "2023-08-22T18:59:21.138558Z",
     "iopub.status.idle": "2023-08-22T18:59:21.148531Z",
     "shell.execute_reply": "2023-08-22T18:59:21.146482Z"
    },
    "papermill": {
     "duration": 0.212235,
     "end_time": "2023-08-22T18:59:21.152533",
     "exception": false,
     "start_time": "2023-08-22T18:59:20.940298",
     "status": "completed"
    },
    "tags": []
   },
   "outputs": [],
   "source": [
    "# source_path = \"/kaggle/input/scraping-google-images-by-input-text-query\"  # Replace with the actual source file path\n",
    "# destination_path = \"/kaggle/working/GoogleImage_ChatGPT_WebScraped_dataset\"  # Replace with the actual destination folder path\n",
    "\n",
    "# filenames = [\"/dataset.arrow\", \"/dataset_info.json\", \"/state.json\"]\n",
    "\n",
    "# for file in filenames:\n",
    "#     # Copy each file from source to destination\n",
    "#     shutil.copy(source_path+file, destination_path)\n",
    "    \n",
    "# def convert_array_to_PIL_Image(instance):\n",
    "#     instance[\"image_data\"] = Image.fromarray(np.array( instance[\"image_data\"], dtype=np.uint8 ) )\n",
    "#     return instance\n",
    "\n",
    "# caption_image_dataset_scraped_google_images = load_from_disk(\"/kaggle/working/GoogleImage_ChatGPT_WebScraped_dataset\")\n",
    "# caption_image_dataset_scraped_google_images = caption_image_dataset_scraped_google_images.map( convert_array_to_PIL_Image )\n",
    "# caption_image_dataset_scraped_google_images\n",
    "\n",
    "# # dataset = concatenate_datasets([dataset,caption_image_dataset_scraped_google_images])\n",
    "# # dataset"
   ]
  },
  {
   "cell_type": "markdown",
   "id": "f1ca9148",
   "metadata": {
    "papermill": {
     "duration": 0.225518,
     "end_time": "2023-08-22T18:59:21.590830",
     "exception": false,
     "start_time": "2023-08-22T18:59:21.365312",
     "status": "completed"
    },
    "tags": []
   },
   "source": [
    "# Import Data"
   ]
  },
  {
   "cell_type": "code",
   "execution_count": 12,
   "id": "cff8edb2",
   "metadata": {
    "execution": {
     "iopub.execute_input": "2023-08-22T18:59:22.007814Z",
     "iopub.status.busy": "2023-08-22T18:59:22.006881Z",
     "iopub.status.idle": "2023-08-22T18:59:22.014943Z",
     "shell.execute_reply": "2023-08-22T18:59:22.013002Z"
    },
    "papermill": {
     "duration": 0.205,
     "end_time": "2023-08-22T18:59:22.019329",
     "exception": false,
     "start_time": "2023-08-22T18:59:21.814329",
     "status": "completed"
    },
    "tags": []
   },
   "outputs": [],
   "source": [
    "# os.makedirs(\"/kaggle/working/Google_Conceptual_Caption_Dataset_Images_Captions\", exist_ok=True)\n",
    "\n",
    "# source_path = \"/kaggle/input/image-retrieval-clip-training-conceptual-caption\"  # Replace with the actual source file path\n",
    "# destination_path = \"/kaggle/working/Google_Conceptual_Caption_Dataset_Images_Captions\"  # Replace with the actual destination folder path\n",
    "\n",
    "# # filenames = [\"/Google_Conceptual_Caption_Dataset_Images_Captions/dataset.arrow\", \"/Google_Conceptual_Caption_Dataset_Images_Captions/dataset_info.json\", \"/Google_Conceptual_Caption_Dataset_Images_Captions/state.json\"]\n",
    "\n",
    "# import os; filenames = os.listdir(source_path+\"/Google_Conceptual_Caption_Dataset_Images_Captions\")\n",
    "\n",
    "# filenames = [os.path.join(source_path, \"Google_Conceptual_Caption_Dataset_Images_Captions/\"+file) for file in filenames]\n",
    "\n",
    "# for file in filenames:\n",
    "#     # Copy each file from source to destination\n",
    "#     shutil.copy(file, destination_path)"
   ]
  },
  {
   "cell_type": "code",
   "execution_count": 13,
   "id": "be7f2c69",
   "metadata": {
    "execution": {
     "iopub.execute_input": "2023-08-22T18:59:22.477060Z",
     "iopub.status.busy": "2023-08-22T18:59:22.476241Z",
     "iopub.status.idle": "2023-08-22T18:59:22.483438Z",
     "shell.execute_reply": "2023-08-22T18:59:22.482216Z"
    },
    "papermill": {
     "duration": 0.248715,
     "end_time": "2023-08-22T18:59:22.485977",
     "exception": false,
     "start_time": "2023-08-22T18:59:22.237262",
     "status": "completed"
    },
    "tags": []
   },
   "outputs": [],
   "source": [
    "# dataset = load_from_disk('/kaggle/working/Google_Conceptual_Caption_Dataset_Images_Captions')\n",
    "# dataset"
   ]
  },
  {
   "cell_type": "markdown",
   "id": "40fbf6be",
   "metadata": {
    "papermill": {
     "duration": 0.012144,
     "end_time": "2023-08-22T18:59:22.699368",
     "exception": false,
     "start_time": "2023-08-22T18:59:22.687224",
     "status": "completed"
    },
    "tags": []
   },
   "source": [
    "# Display few Image-Caption"
   ]
  },
  {
   "cell_type": "code",
   "execution_count": 14,
   "id": "434e2cfe",
   "metadata": {
    "execution": {
     "iopub.execute_input": "2023-08-22T18:59:22.763106Z",
     "iopub.status.busy": "2023-08-22T18:59:22.762387Z",
     "iopub.status.idle": "2023-08-22T18:59:22.766965Z",
     "shell.execute_reply": "2023-08-22T18:59:22.765798Z"
    },
    "papermill": {
     "duration": 0.019362,
     "end_time": "2023-08-22T18:59:22.769606",
     "exception": false,
     "start_time": "2023-08-22T18:59:22.750244",
     "status": "completed"
    },
    "tags": []
   },
   "outputs": [],
   "source": [
    "# for index in range(10,20):\n",
    "#     # Display the image using matplotlib\n",
    "#     image_array = dataset[index][\"image_data\"]\n",
    "#     caption = dataset[index][\"caption\"]\n",
    "#     plt.imshow(image_array)\n",
    "#     plt.axis('off')  # Turn off axes\n",
    "#     print(\"\\n\\n\\n Caption: \", caption )\n",
    "#     plt.show()"
   ]
  },
  {
   "cell_type": "code",
   "execution_count": null,
   "id": "f0ce081f",
   "metadata": {
    "papermill": {
     "duration": 0.010604,
     "end_time": "2023-08-22T18:59:22.791060",
     "exception": false,
     "start_time": "2023-08-22T18:59:22.780456",
     "status": "completed"
    },
    "tags": []
   },
   "outputs": [],
   "source": []
  }
 ],
 "metadata": {
  "kernelspec": {
   "display_name": "Python 3",
   "language": "python",
   "name": "python3"
  },
  "language_info": {
   "codemirror_mode": {
    "name": "ipython",
    "version": 3
   },
   "file_extension": ".py",
   "mimetype": "text/x-python",
   "name": "python",
   "nbconvert_exporter": "python",
   "pygments_lexer": "ipython3",
   "version": "3.10.12"
  },
  "papermill": {
   "default_parameters": {},
   "duration": 24484.083346,
   "end_time": "2023-08-22T18:59:24.699925",
   "environment_variables": {},
   "exception": null,
   "input_path": "__notebook__.ipynb",
   "output_path": "__notebook__.ipynb",
   "parameters": {},
   "start_time": "2023-08-22T12:11:20.616579",
   "version": "2.4.0"
  },
  "widgets": {
   "application/vnd.jupyter.widget-state+json": {
    "state": {
     "0837cd40b672491d9d2c963d17527889": {
      "model_module": "@jupyter-widgets/controls",
      "model_module_version": "1.5.0",
      "model_name": "HBoxModel",
      "state": {
       "_dom_classes": [],
       "_model_module": "@jupyter-widgets/controls",
       "_model_module_version": "1.5.0",
       "_model_name": "HBoxModel",
       "_view_count": null,
       "_view_module": "@jupyter-widgets/controls",
       "_view_module_version": "1.5.0",
       "_view_name": "HBoxView",
       "box_style": "",
       "children": [
        "IPY_MODEL_f1211ffdd02e45ddab401df1d977babf",
        "IPY_MODEL_ea4169d27a7b43d7b95b2db1c0f6d047",
        "IPY_MODEL_ac9ad15d5f88406f88698b24cc992406"
       ],
       "layout": "IPY_MODEL_d719d7e065954024970c4f1fd8aef2f8"
      }
     },
     "17b69aecc4534408b6282043691c890f": {
      "model_module": "@jupyter-widgets/base",
      "model_module_version": "1.2.0",
      "model_name": "LayoutModel",
      "state": {
       "_model_module": "@jupyter-widgets/base",
       "_model_module_version": "1.2.0",
       "_model_name": "LayoutModel",
       "_view_count": null,
       "_view_module": "@jupyter-widgets/base",
       "_view_module_version": "1.2.0",
       "_view_name": "LayoutView",
       "align_content": null,
       "align_items": null,
       "align_self": null,
       "border": null,
       "bottom": null,
       "display": null,
       "flex": null,
       "flex_flow": null,
       "grid_area": null,
       "grid_auto_columns": null,
       "grid_auto_flow": null,
       "grid_auto_rows": null,
       "grid_column": null,
       "grid_gap": null,
       "grid_row": null,
       "grid_template_areas": null,
       "grid_template_columns": null,
       "grid_template_rows": null,
       "height": null,
       "justify_content": null,
       "justify_items": null,
       "left": null,
       "margin": null,
       "max_height": null,
       "max_width": null,
       "min_height": null,
       "min_width": null,
       "object_fit": null,
       "object_position": null,
       "order": null,
       "overflow": null,
       "overflow_x": null,
       "overflow_y": null,
       "padding": null,
       "right": null,
       "top": null,
       "visibility": null,
       "width": null
      }
     },
     "183be062c2f440818f45948cee393788": {
      "model_module": "@jupyter-widgets/base",
      "model_module_version": "1.2.0",
      "model_name": "LayoutModel",
      "state": {
       "_model_module": "@jupyter-widgets/base",
       "_model_module_version": "1.2.0",
       "_model_name": "LayoutModel",
       "_view_count": null,
       "_view_module": "@jupyter-widgets/base",
       "_view_module_version": "1.2.0",
       "_view_name": "LayoutView",
       "align_content": null,
       "align_items": null,
       "align_self": null,
       "border": null,
       "bottom": null,
       "display": null,
       "flex": null,
       "flex_flow": null,
       "grid_area": null,
       "grid_auto_columns": null,
       "grid_auto_flow": null,
       "grid_auto_rows": null,
       "grid_column": null,
       "grid_gap": null,
       "grid_row": null,
       "grid_template_areas": null,
       "grid_template_columns": null,
       "grid_template_rows": null,
       "height": null,
       "justify_content": null,
       "justify_items": null,
       "left": null,
       "margin": null,
       "max_height": null,
       "max_width": null,
       "min_height": null,
       "min_width": null,
       "object_fit": null,
       "object_position": null,
       "order": null,
       "overflow": null,
       "overflow_x": null,
       "overflow_y": null,
       "padding": null,
       "right": null,
       "top": null,
       "visibility": null,
       "width": null
      }
     },
     "1f18ef5e71fb47b6b4334987ae7d8203": {
      "model_module": "@jupyter-widgets/controls",
      "model_module_version": "1.5.0",
      "model_name": "DescriptionStyleModel",
      "state": {
       "_model_module": "@jupyter-widgets/controls",
       "_model_module_version": "1.5.0",
       "_model_name": "DescriptionStyleModel",
       "_view_count": null,
       "_view_module": "@jupyter-widgets/base",
       "_view_module_version": "1.2.0",
       "_view_name": "StyleView",
       "description_width": ""
      }
     },
     "2394446aedc142a78b96e72ee9a170ad": {
      "model_module": "@jupyter-widgets/controls",
      "model_module_version": "1.5.0",
      "model_name": "DescriptionStyleModel",
      "state": {
       "_model_module": "@jupyter-widgets/controls",
       "_model_module_version": "1.5.0",
       "_model_name": "DescriptionStyleModel",
       "_view_count": null,
       "_view_module": "@jupyter-widgets/base",
       "_view_module_version": "1.2.0",
       "_view_name": "StyleView",
       "description_width": ""
      }
     },
     "2472d61648e241f480834bf88231cef0": {
      "model_module": "@jupyter-widgets/controls",
      "model_module_version": "1.5.0",
      "model_name": "HTMLModel",
      "state": {
       "_dom_classes": [],
       "_model_module": "@jupyter-widgets/controls",
       "_model_module_version": "1.5.0",
       "_model_name": "HTMLModel",
       "_view_count": null,
       "_view_module": "@jupyter-widgets/controls",
       "_view_module_version": "1.5.0",
       "_view_name": "HTMLView",
       "description": "",
       "description_tooltip": null,
       "layout": "IPY_MODEL_2a3636a073b240ee8bb4ca72bea8d93c",
       "placeholder": "​",
       "style": "IPY_MODEL_b539860dcde744afab5cd79acb10513f",
       "value": "Flattening the indices: 100%"
      }
     },
     "27358f96c5af4ab9886a04927b10e666": {
      "model_module": "@jupyter-widgets/controls",
      "model_module_version": "1.5.0",
      "model_name": "DescriptionStyleModel",
      "state": {
       "_model_module": "@jupyter-widgets/controls",
       "_model_module_version": "1.5.0",
       "_model_name": "DescriptionStyleModel",
       "_view_count": null,
       "_view_module": "@jupyter-widgets/base",
       "_view_module_version": "1.2.0",
       "_view_name": "StyleView",
       "description_width": ""
      }
     },
     "2a3636a073b240ee8bb4ca72bea8d93c": {
      "model_module": "@jupyter-widgets/base",
      "model_module_version": "1.2.0",
      "model_name": "LayoutModel",
      "state": {
       "_model_module": "@jupyter-widgets/base",
       "_model_module_version": "1.2.0",
       "_model_name": "LayoutModel",
       "_view_count": null,
       "_view_module": "@jupyter-widgets/base",
       "_view_module_version": "1.2.0",
       "_view_name": "LayoutView",
       "align_content": null,
       "align_items": null,
       "align_self": null,
       "border": null,
       "bottom": null,
       "display": null,
       "flex": null,
       "flex_flow": null,
       "grid_area": null,
       "grid_auto_columns": null,
       "grid_auto_flow": null,
       "grid_auto_rows": null,
       "grid_column": null,
       "grid_gap": null,
       "grid_row": null,
       "grid_template_areas": null,
       "grid_template_columns": null,
       "grid_template_rows": null,
       "height": null,
       "justify_content": null,
       "justify_items": null,
       "left": null,
       "margin": null,
       "max_height": null,
       "max_width": null,
       "min_height": null,
       "min_width": null,
       "object_fit": null,
       "object_position": null,
       "order": null,
       "overflow": null,
       "overflow_x": null,
       "overflow_y": null,
       "padding": null,
       "right": null,
       "top": null,
       "visibility": null,
       "width": null
      }
     },
     "33bec8a7b5484a948faf0c8a26e813f6": {
      "model_module": "@jupyter-widgets/controls",
      "model_module_version": "1.5.0",
      "model_name": "HTMLModel",
      "state": {
       "_dom_classes": [],
       "_model_module": "@jupyter-widgets/controls",
       "_model_module_version": "1.5.0",
       "_model_name": "HTMLModel",
       "_view_count": null,
       "_view_module": "@jupyter-widgets/controls",
       "_view_module_version": "1.5.0",
       "_view_name": "HTMLView",
       "description": "",
       "description_tooltip": null,
       "layout": "IPY_MODEL_5995a26081834e3c9254c8cf7cb1c5b8",
       "placeholder": "​",
       "style": "IPY_MODEL_d65548197f4f4c2d898bfca850e78f32",
       "value": " 65/65 [03:39&lt;00:00,  3.41s/ba]"
      }
     },
     "3a1773cd08e04858b4933fa26dce1d9c": {
      "model_module": "@jupyter-widgets/controls",
      "model_module_version": "1.5.0",
      "model_name": "ProgressStyleModel",
      "state": {
       "_model_module": "@jupyter-widgets/controls",
       "_model_module_version": "1.5.0",
       "_model_name": "ProgressStyleModel",
       "_view_count": null,
       "_view_module": "@jupyter-widgets/base",
       "_view_module_version": "1.2.0",
       "_view_name": "StyleView",
       "bar_color": null,
       "description_width": ""
      }
     },
     "3bd4c823f1fb4fa9ba71880279a48314": {
      "model_module": "@jupyter-widgets/controls",
      "model_module_version": "1.5.0",
      "model_name": "HTMLModel",
      "state": {
       "_dom_classes": [],
       "_model_module": "@jupyter-widgets/controls",
       "_model_module_version": "1.5.0",
       "_model_name": "HTMLModel",
       "_view_count": null,
       "_view_module": "@jupyter-widgets/controls",
       "_view_module_version": "1.5.0",
       "_view_name": "HTMLView",
       "description": "",
       "description_tooltip": null,
       "layout": "IPY_MODEL_faee0f15abd741f5b9d6d8aaccdbf603",
       "placeholder": "​",
       "style": "IPY_MODEL_d132142d9d714d8fb678963eb8c37b2d",
       "value": "100%"
      }
     },
     "549eb5b8fed4477bae62a95db2d62047": {
      "model_module": "@jupyter-widgets/controls",
      "model_module_version": "1.5.0",
      "model_name": "ProgressStyleModel",
      "state": {
       "_model_module": "@jupyter-widgets/controls",
       "_model_module_version": "1.5.0",
       "_model_name": "ProgressStyleModel",
       "_view_count": null,
       "_view_module": "@jupyter-widgets/base",
       "_view_module_version": "1.2.0",
       "_view_name": "StyleView",
       "bar_color": null,
       "description_width": ""
      }
     },
     "597f8617503a417e911dd41c478f9962": {
      "model_module": "@jupyter-widgets/controls",
      "model_module_version": "1.5.0",
      "model_name": "DescriptionStyleModel",
      "state": {
       "_model_module": "@jupyter-widgets/controls",
       "_model_module_version": "1.5.0",
       "_model_name": "DescriptionStyleModel",
       "_view_count": null,
       "_view_module": "@jupyter-widgets/base",
       "_view_module_version": "1.2.0",
       "_view_name": "StyleView",
       "description_width": ""
      }
     },
     "5995a26081834e3c9254c8cf7cb1c5b8": {
      "model_module": "@jupyter-widgets/base",
      "model_module_version": "1.2.0",
      "model_name": "LayoutModel",
      "state": {
       "_model_module": "@jupyter-widgets/base",
       "_model_module_version": "1.2.0",
       "_model_name": "LayoutModel",
       "_view_count": null,
       "_view_module": "@jupyter-widgets/base",
       "_view_module_version": "1.2.0",
       "_view_name": "LayoutView",
       "align_content": null,
       "align_items": null,
       "align_self": null,
       "border": null,
       "bottom": null,
       "display": null,
       "flex": null,
       "flex_flow": null,
       "grid_area": null,
       "grid_auto_columns": null,
       "grid_auto_flow": null,
       "grid_auto_rows": null,
       "grid_column": null,
       "grid_gap": null,
       "grid_row": null,
       "grid_template_areas": null,
       "grid_template_columns": null,
       "grid_template_rows": null,
       "height": null,
       "justify_content": null,
       "justify_items": null,
       "left": null,
       "margin": null,
       "max_height": null,
       "max_width": null,
       "min_height": null,
       "min_width": null,
       "object_fit": null,
       "object_position": null,
       "order": null,
       "overflow": null,
       "overflow_x": null,
       "overflow_y": null,
       "padding": null,
       "right": null,
       "top": null,
       "visibility": null,
       "width": null
      }
     },
     "5a7eb649fc0b4c3985e181b8cf5c2950": {
      "model_module": "@jupyter-widgets/base",
      "model_module_version": "1.2.0",
      "model_name": "LayoutModel",
      "state": {
       "_model_module": "@jupyter-widgets/base",
       "_model_module_version": "1.2.0",
       "_model_name": "LayoutModel",
       "_view_count": null,
       "_view_module": "@jupyter-widgets/base",
       "_view_module_version": "1.2.0",
       "_view_name": "LayoutView",
       "align_content": null,
       "align_items": null,
       "align_self": null,
       "border": null,
       "bottom": null,
       "display": null,
       "flex": null,
       "flex_flow": null,
       "grid_area": null,
       "grid_auto_columns": null,
       "grid_auto_flow": null,
       "grid_auto_rows": null,
       "grid_column": null,
       "grid_gap": null,
       "grid_row": null,
       "grid_template_areas": null,
       "grid_template_columns": null,
       "grid_template_rows": null,
       "height": null,
       "justify_content": null,
       "justify_items": null,
       "left": null,
       "margin": null,
       "max_height": null,
       "max_width": null,
       "min_height": null,
       "min_width": null,
       "object_fit": null,
       "object_position": null,
       "order": null,
       "overflow": null,
       "overflow_x": null,
       "overflow_y": null,
       "padding": null,
       "right": null,
       "top": null,
       "visibility": null,
       "width": null
      }
     },
     "74cdaae753ac489e98804421013964a3": {
      "model_module": "@jupyter-widgets/controls",
      "model_module_version": "1.5.0",
      "model_name": "HBoxModel",
      "state": {
       "_dom_classes": [],
       "_model_module": "@jupyter-widgets/controls",
       "_model_module_version": "1.5.0",
       "_model_name": "HBoxModel",
       "_view_count": null,
       "_view_module": "@jupyter-widgets/controls",
       "_view_module_version": "1.5.0",
       "_view_name": "HBoxView",
       "box_style": "",
       "children": [
        "IPY_MODEL_3bd4c823f1fb4fa9ba71880279a48314",
        "IPY_MODEL_bc4b1cfbd8d44fbe9bde6eaff4cd413c",
        "IPY_MODEL_33bec8a7b5484a948faf0c8a26e813f6"
       ],
       "layout": "IPY_MODEL_94c7016936f849c19eef71af0882f16b"
      }
     },
     "7d83f17614f64a8ba060ab675f0f1236": {
      "model_module": "@jupyter-widgets/controls",
      "model_module_version": "1.5.0",
      "model_name": "HBoxModel",
      "state": {
       "_dom_classes": [],
       "_model_module": "@jupyter-widgets/controls",
       "_model_module_version": "1.5.0",
       "_model_name": "HBoxModel",
       "_view_count": null,
       "_view_module": "@jupyter-widgets/controls",
       "_view_module_version": "1.5.0",
       "_view_name": "HBoxView",
       "box_style": "",
       "children": [
        "IPY_MODEL_2472d61648e241f480834bf88231cef0",
        "IPY_MODEL_9068fca7cbe849bcbc885647d8114b73",
        "IPY_MODEL_ffcf2cac7d4b4f519e1ac4771b4a3167"
       ],
       "layout": "IPY_MODEL_b37f2f01ac394fbfb7f02a6382027519"
      }
     },
     "8b6bb5c314564d58b6d97cc4867e9c15": {
      "model_module": "@jupyter-widgets/base",
      "model_module_version": "1.2.0",
      "model_name": "LayoutModel",
      "state": {
       "_model_module": "@jupyter-widgets/base",
       "_model_module_version": "1.2.0",
       "_model_name": "LayoutModel",
       "_view_count": null,
       "_view_module": "@jupyter-widgets/base",
       "_view_module_version": "1.2.0",
       "_view_name": "LayoutView",
       "align_content": null,
       "align_items": null,
       "align_self": null,
       "border": null,
       "bottom": null,
       "display": null,
       "flex": null,
       "flex_flow": null,
       "grid_area": null,
       "grid_auto_columns": null,
       "grid_auto_flow": null,
       "grid_auto_rows": null,
       "grid_column": null,
       "grid_gap": null,
       "grid_row": null,
       "grid_template_areas": null,
       "grid_template_columns": null,
       "grid_template_rows": null,
       "height": null,
       "justify_content": null,
       "justify_items": null,
       "left": null,
       "margin": null,
       "max_height": null,
       "max_width": null,
       "min_height": null,
       "min_width": null,
       "object_fit": null,
       "object_position": null,
       "order": null,
       "overflow": null,
       "overflow_x": null,
       "overflow_y": null,
       "padding": null,
       "right": null,
       "top": null,
       "visibility": null,
       "width": null
      }
     },
     "9068fca7cbe849bcbc885647d8114b73": {
      "model_module": "@jupyter-widgets/controls",
      "model_module_version": "1.5.0",
      "model_name": "FloatProgressModel",
      "state": {
       "_dom_classes": [],
       "_model_module": "@jupyter-widgets/controls",
       "_model_module_version": "1.5.0",
       "_model_name": "FloatProgressModel",
       "_view_count": null,
       "_view_module": "@jupyter-widgets/controls",
       "_view_module_version": "1.5.0",
       "_view_name": "ProgressView",
       "bar_style": "success",
       "description": "",
       "description_tooltip": null,
       "layout": "IPY_MODEL_95fe7f69c7504d74a4f9e58796c5d02d",
       "max": 54.0,
       "min": 0.0,
       "orientation": "horizontal",
       "style": "IPY_MODEL_3a1773cd08e04858b4933fa26dce1d9c",
       "value": 54.0
      }
     },
     "94c7016936f849c19eef71af0882f16b": {
      "model_module": "@jupyter-widgets/base",
      "model_module_version": "1.2.0",
      "model_name": "LayoutModel",
      "state": {
       "_model_module": "@jupyter-widgets/base",
       "_model_module_version": "1.2.0",
       "_model_name": "LayoutModel",
       "_view_count": null,
       "_view_module": "@jupyter-widgets/base",
       "_view_module_version": "1.2.0",
       "_view_name": "LayoutView",
       "align_content": null,
       "align_items": null,
       "align_self": null,
       "border": null,
       "bottom": null,
       "display": null,
       "flex": null,
       "flex_flow": null,
       "grid_area": null,
       "grid_auto_columns": null,
       "grid_auto_flow": null,
       "grid_auto_rows": null,
       "grid_column": null,
       "grid_gap": null,
       "grid_row": null,
       "grid_template_areas": null,
       "grid_template_columns": null,
       "grid_template_rows": null,
       "height": null,
       "justify_content": null,
       "justify_items": null,
       "left": null,
       "margin": null,
       "max_height": null,
       "max_width": null,
       "min_height": null,
       "min_width": null,
       "object_fit": null,
       "object_position": null,
       "order": null,
       "overflow": null,
       "overflow_x": null,
       "overflow_y": null,
       "padding": null,
       "right": null,
       "top": null,
       "visibility": null,
       "width": null
      }
     },
     "95fe7f69c7504d74a4f9e58796c5d02d": {
      "model_module": "@jupyter-widgets/base",
      "model_module_version": "1.2.0",
      "model_name": "LayoutModel",
      "state": {
       "_model_module": "@jupyter-widgets/base",
       "_model_module_version": "1.2.0",
       "_model_name": "LayoutModel",
       "_view_count": null,
       "_view_module": "@jupyter-widgets/base",
       "_view_module_version": "1.2.0",
       "_view_name": "LayoutView",
       "align_content": null,
       "align_items": null,
       "align_self": null,
       "border": null,
       "bottom": null,
       "display": null,
       "flex": null,
       "flex_flow": null,
       "grid_area": null,
       "grid_auto_columns": null,
       "grid_auto_flow": null,
       "grid_auto_rows": null,
       "grid_column": null,
       "grid_gap": null,
       "grid_row": null,
       "grid_template_areas": null,
       "grid_template_columns": null,
       "grid_template_rows": null,
       "height": null,
       "justify_content": null,
       "justify_items": null,
       "left": null,
       "margin": null,
       "max_height": null,
       "max_width": null,
       "min_height": null,
       "min_width": null,
       "object_fit": null,
       "object_position": null,
       "order": null,
       "overflow": null,
       "overflow_x": null,
       "overflow_y": null,
       "padding": null,
       "right": null,
       "top": null,
       "visibility": null,
       "width": null
      }
     },
     "985517dfe31b41099e77df1b2ba0aa9d": {
      "model_module": "@jupyter-widgets/base",
      "model_module_version": "1.2.0",
      "model_name": "LayoutModel",
      "state": {
       "_model_module": "@jupyter-widgets/base",
       "_model_module_version": "1.2.0",
       "_model_name": "LayoutModel",
       "_view_count": null,
       "_view_module": "@jupyter-widgets/base",
       "_view_module_version": "1.2.0",
       "_view_name": "LayoutView",
       "align_content": null,
       "align_items": null,
       "align_self": null,
       "border": null,
       "bottom": null,
       "display": null,
       "flex": null,
       "flex_flow": null,
       "grid_area": null,
       "grid_auto_columns": null,
       "grid_auto_flow": null,
       "grid_auto_rows": null,
       "grid_column": null,
       "grid_gap": null,
       "grid_row": null,
       "grid_template_areas": null,
       "grid_template_columns": null,
       "grid_template_rows": null,
       "height": null,
       "justify_content": null,
       "justify_items": null,
       "left": null,
       "margin": null,
       "max_height": null,
       "max_width": null,
       "min_height": null,
       "min_width": null,
       "object_fit": null,
       "object_position": null,
       "order": null,
       "overflow": null,
       "overflow_x": null,
       "overflow_y": null,
       "padding": null,
       "right": null,
       "top": null,
       "visibility": null,
       "width": null
      }
     },
     "ac9ad15d5f88406f88698b24cc992406": {
      "model_module": "@jupyter-widgets/controls",
      "model_module_version": "1.5.0",
      "model_name": "HTMLModel",
      "state": {
       "_dom_classes": [],
       "_model_module": "@jupyter-widgets/controls",
       "_model_module_version": "1.5.0",
       "_model_name": "HTMLModel",
       "_view_count": null,
       "_view_module": "@jupyter-widgets/controls",
       "_view_module_version": "1.5.0",
       "_view_name": "HTMLView",
       "description": "",
       "description_tooltip": null,
       "layout": "IPY_MODEL_5a7eb649fc0b4c3985e181b8cf5c2950",
       "placeholder": "​",
       "style": "IPY_MODEL_1f18ef5e71fb47b6b4334987ae7d8203",
       "value": " 65000/65000 [6:42:10&lt;00:00,  3.64s/ex]"
      }
     },
     "b37f2f01ac394fbfb7f02a6382027519": {
      "model_module": "@jupyter-widgets/base",
      "model_module_version": "1.2.0",
      "model_name": "LayoutModel",
      "state": {
       "_model_module": "@jupyter-widgets/base",
       "_model_module_version": "1.2.0",
       "_model_name": "LayoutModel",
       "_view_count": null,
       "_view_module": "@jupyter-widgets/base",
       "_view_module_version": "1.2.0",
       "_view_name": "LayoutView",
       "align_content": null,
       "align_items": null,
       "align_self": null,
       "border": null,
       "bottom": null,
       "display": null,
       "flex": null,
       "flex_flow": null,
       "grid_area": null,
       "grid_auto_columns": null,
       "grid_auto_flow": null,
       "grid_auto_rows": null,
       "grid_column": null,
       "grid_gap": null,
       "grid_row": null,
       "grid_template_areas": null,
       "grid_template_columns": null,
       "grid_template_rows": null,
       "height": null,
       "justify_content": null,
       "justify_items": null,
       "left": null,
       "margin": null,
       "max_height": null,
       "max_width": null,
       "min_height": null,
       "min_width": null,
       "object_fit": null,
       "object_position": null,
       "order": null,
       "overflow": null,
       "overflow_x": null,
       "overflow_y": null,
       "padding": null,
       "right": null,
       "top": null,
       "visibility": null,
       "width": null
      }
     },
     "b539860dcde744afab5cd79acb10513f": {
      "model_module": "@jupyter-widgets/controls",
      "model_module_version": "1.5.0",
      "model_name": "DescriptionStyleModel",
      "state": {
       "_model_module": "@jupyter-widgets/controls",
       "_model_module_version": "1.5.0",
       "_model_name": "DescriptionStyleModel",
       "_view_count": null,
       "_view_module": "@jupyter-widgets/base",
       "_view_module_version": "1.2.0",
       "_view_name": "StyleView",
       "description_width": ""
      }
     },
     "bc4b1cfbd8d44fbe9bde6eaff4cd413c": {
      "model_module": "@jupyter-widgets/controls",
      "model_module_version": "1.5.0",
      "model_name": "FloatProgressModel",
      "state": {
       "_dom_classes": [],
       "_model_module": "@jupyter-widgets/controls",
       "_model_module_version": "1.5.0",
       "_model_name": "FloatProgressModel",
       "_view_count": null,
       "_view_module": "@jupyter-widgets/controls",
       "_view_module_version": "1.5.0",
       "_view_name": "ProgressView",
       "bar_style": "success",
       "description": "",
       "description_tooltip": null,
       "layout": "IPY_MODEL_985517dfe31b41099e77df1b2ba0aa9d",
       "max": 65.0,
       "min": 0.0,
       "orientation": "horizontal",
       "style": "IPY_MODEL_549eb5b8fed4477bae62a95db2d62047",
       "value": 65.0
      }
     },
     "c52b9ddef460452a83c8f35573ad116e": {
      "model_module": "@jupyter-widgets/base",
      "model_module_version": "1.2.0",
      "model_name": "LayoutModel",
      "state": {
       "_model_module": "@jupyter-widgets/base",
       "_model_module_version": "1.2.0",
       "_model_name": "LayoutModel",
       "_view_count": null,
       "_view_module": "@jupyter-widgets/base",
       "_view_module_version": "1.2.0",
       "_view_name": "LayoutView",
       "align_content": null,
       "align_items": null,
       "align_self": null,
       "border": null,
       "bottom": null,
       "display": null,
       "flex": null,
       "flex_flow": null,
       "grid_area": null,
       "grid_auto_columns": null,
       "grid_auto_flow": null,
       "grid_auto_rows": null,
       "grid_column": null,
       "grid_gap": null,
       "grid_row": null,
       "grid_template_areas": null,
       "grid_template_columns": null,
       "grid_template_rows": null,
       "height": null,
       "justify_content": null,
       "justify_items": null,
       "left": null,
       "margin": null,
       "max_height": null,
       "max_width": null,
       "min_height": null,
       "min_width": null,
       "object_fit": null,
       "object_position": null,
       "order": null,
       "overflow": null,
       "overflow_x": null,
       "overflow_y": null,
       "padding": null,
       "right": null,
       "top": null,
       "visibility": null,
       "width": null
      }
     },
     "c7c0458f67dd4b57a0f371890cb2b8f6": {
      "model_module": "@jupyter-widgets/controls",
      "model_module_version": "1.5.0",
      "model_name": "HBoxModel",
      "state": {
       "_dom_classes": [],
       "_model_module": "@jupyter-widgets/controls",
       "_model_module_version": "1.5.0",
       "_model_name": "HBoxModel",
       "_view_count": null,
       "_view_module": "@jupyter-widgets/controls",
       "_view_module_version": "1.5.0",
       "_view_name": "HBoxView",
       "box_style": "",
       "children": [
        "IPY_MODEL_fe0fb61feb464c40b4f9d6eba96026bf",
        "IPY_MODEL_f127e9ae35774c7bab99ada90f29ff99",
        "IPY_MODEL_e13eb2735cd8469492ca37a30b2a3c80"
       ],
       "layout": "IPY_MODEL_c52b9ddef460452a83c8f35573ad116e"
      }
     },
     "c8e42f611ca746099265f0440ee514c6": {
      "model_module": "@jupyter-widgets/controls",
      "model_module_version": "1.5.0",
      "model_name": "ProgressStyleModel",
      "state": {
       "_model_module": "@jupyter-widgets/controls",
       "_model_module_version": "1.5.0",
       "_model_name": "ProgressStyleModel",
       "_view_count": null,
       "_view_module": "@jupyter-widgets/base",
       "_view_module_version": "1.2.0",
       "_view_name": "StyleView",
       "bar_color": null,
       "description_width": ""
      }
     },
     "d132142d9d714d8fb678963eb8c37b2d": {
      "model_module": "@jupyter-widgets/controls",
      "model_module_version": "1.5.0",
      "model_name": "DescriptionStyleModel",
      "state": {
       "_model_module": "@jupyter-widgets/controls",
       "_model_module_version": "1.5.0",
       "_model_name": "DescriptionStyleModel",
       "_view_count": null,
       "_view_module": "@jupyter-widgets/base",
       "_view_module_version": "1.2.0",
       "_view_name": "StyleView",
       "description_width": ""
      }
     },
     "d65548197f4f4c2d898bfca850e78f32": {
      "model_module": "@jupyter-widgets/controls",
      "model_module_version": "1.5.0",
      "model_name": "DescriptionStyleModel",
      "state": {
       "_model_module": "@jupyter-widgets/controls",
       "_model_module_version": "1.5.0",
       "_model_name": "DescriptionStyleModel",
       "_view_count": null,
       "_view_module": "@jupyter-widgets/base",
       "_view_module_version": "1.2.0",
       "_view_name": "StyleView",
       "description_width": ""
      }
     },
     "d719d7e065954024970c4f1fd8aef2f8": {
      "model_module": "@jupyter-widgets/base",
      "model_module_version": "1.2.0",
      "model_name": "LayoutModel",
      "state": {
       "_model_module": "@jupyter-widgets/base",
       "_model_module_version": "1.2.0",
       "_model_name": "LayoutModel",
       "_view_count": null,
       "_view_module": "@jupyter-widgets/base",
       "_view_module_version": "1.2.0",
       "_view_name": "LayoutView",
       "align_content": null,
       "align_items": null,
       "align_self": null,
       "border": null,
       "bottom": null,
       "display": null,
       "flex": null,
       "flex_flow": null,
       "grid_area": null,
       "grid_auto_columns": null,
       "grid_auto_flow": null,
       "grid_auto_rows": null,
       "grid_column": null,
       "grid_gap": null,
       "grid_row": null,
       "grid_template_areas": null,
       "grid_template_columns": null,
       "grid_template_rows": null,
       "height": null,
       "justify_content": null,
       "justify_items": null,
       "left": null,
       "margin": null,
       "max_height": null,
       "max_width": null,
       "min_height": null,
       "min_width": null,
       "object_fit": null,
       "object_position": null,
       "order": null,
       "overflow": null,
       "overflow_x": null,
       "overflow_y": null,
       "padding": null,
       "right": null,
       "top": null,
       "visibility": null,
       "width": null
      }
     },
     "d7b79a2955c1491ba53d9281f12603c4": {
      "model_module": "@jupyter-widgets/base",
      "model_module_version": "1.2.0",
      "model_name": "LayoutModel",
      "state": {
       "_model_module": "@jupyter-widgets/base",
       "_model_module_version": "1.2.0",
       "_model_name": "LayoutModel",
       "_view_count": null,
       "_view_module": "@jupyter-widgets/base",
       "_view_module_version": "1.2.0",
       "_view_name": "LayoutView",
       "align_content": null,
       "align_items": null,
       "align_self": null,
       "border": null,
       "bottom": null,
       "display": null,
       "flex": null,
       "flex_flow": null,
       "grid_area": null,
       "grid_auto_columns": null,
       "grid_auto_flow": null,
       "grid_auto_rows": null,
       "grid_column": null,
       "grid_gap": null,
       "grid_row": null,
       "grid_template_areas": null,
       "grid_template_columns": null,
       "grid_template_rows": null,
       "height": null,
       "justify_content": null,
       "justify_items": null,
       "left": null,
       "margin": null,
       "max_height": null,
       "max_width": null,
       "min_height": null,
       "min_width": null,
       "object_fit": null,
       "object_position": null,
       "order": null,
       "overflow": null,
       "overflow_x": null,
       "overflow_y": null,
       "padding": null,
       "right": null,
       "top": null,
       "visibility": null,
       "width": null
      }
     },
     "dfd9384a93934904998fb4566ebfe798": {
      "model_module": "@jupyter-widgets/controls",
      "model_module_version": "1.5.0",
      "model_name": "DescriptionStyleModel",
      "state": {
       "_model_module": "@jupyter-widgets/controls",
       "_model_module_version": "1.5.0",
       "_model_name": "DescriptionStyleModel",
       "_view_count": null,
       "_view_module": "@jupyter-widgets/base",
       "_view_module_version": "1.2.0",
       "_view_name": "StyleView",
       "description_width": ""
      }
     },
     "e13eb2735cd8469492ca37a30b2a3c80": {
      "model_module": "@jupyter-widgets/controls",
      "model_module_version": "1.5.0",
      "model_name": "HTMLModel",
      "state": {
       "_dom_classes": [],
       "_model_module": "@jupyter-widgets/controls",
       "_model_module_version": "1.5.0",
       "_model_name": "HTMLModel",
       "_view_count": null,
       "_view_module": "@jupyter-widgets/controls",
       "_view_module_version": "1.5.0",
       "_view_name": "HTMLView",
       "description": "",
       "description_tooltip": null,
       "layout": "IPY_MODEL_d7b79a2955c1491ba53d9281f12603c4",
       "placeholder": "​",
       "style": "IPY_MODEL_2394446aedc142a78b96e72ee9a170ad",
       "value": " 3319/3319 [00:25&lt;00:00, 132.84ba/s]"
      }
     },
     "e6a37eee93774b6ba51e6ab10ef4cfc4": {
      "model_module": "@jupyter-widgets/controls",
      "model_module_version": "1.5.0",
      "model_name": "ProgressStyleModel",
      "state": {
       "_model_module": "@jupyter-widgets/controls",
       "_model_module_version": "1.5.0",
       "_model_name": "ProgressStyleModel",
       "_view_count": null,
       "_view_module": "@jupyter-widgets/base",
       "_view_module_version": "1.2.0",
       "_view_name": "StyleView",
       "bar_color": null,
       "description_width": ""
      }
     },
     "ea4169d27a7b43d7b95b2db1c0f6d047": {
      "model_module": "@jupyter-widgets/controls",
      "model_module_version": "1.5.0",
      "model_name": "FloatProgressModel",
      "state": {
       "_dom_classes": [],
       "_model_module": "@jupyter-widgets/controls",
       "_model_module_version": "1.5.0",
       "_model_name": "FloatProgressModel",
       "_view_count": null,
       "_view_module": "@jupyter-widgets/controls",
       "_view_module_version": "1.5.0",
       "_view_name": "ProgressView",
       "bar_style": "success",
       "description": "",
       "description_tooltip": null,
       "layout": "IPY_MODEL_17b69aecc4534408b6282043691c890f",
       "max": 65000.0,
       "min": 0.0,
       "orientation": "horizontal",
       "style": "IPY_MODEL_c8e42f611ca746099265f0440ee514c6",
       "value": 65000.0
      }
     },
     "ea848d0012fc41ceab0ab6bed9b20073": {
      "model_module": "@jupyter-widgets/base",
      "model_module_version": "1.2.0",
      "model_name": "LayoutModel",
      "state": {
       "_model_module": "@jupyter-widgets/base",
       "_model_module_version": "1.2.0",
       "_model_name": "LayoutModel",
       "_view_count": null,
       "_view_module": "@jupyter-widgets/base",
       "_view_module_version": "1.2.0",
       "_view_name": "LayoutView",
       "align_content": null,
       "align_items": null,
       "align_self": null,
       "border": null,
       "bottom": null,
       "display": null,
       "flex": null,
       "flex_flow": null,
       "grid_area": null,
       "grid_auto_columns": null,
       "grid_auto_flow": null,
       "grid_auto_rows": null,
       "grid_column": null,
       "grid_gap": null,
       "grid_row": null,
       "grid_template_areas": null,
       "grid_template_columns": null,
       "grid_template_rows": null,
       "height": null,
       "justify_content": null,
       "justify_items": null,
       "left": null,
       "margin": null,
       "max_height": null,
       "max_width": null,
       "min_height": null,
       "min_width": null,
       "object_fit": null,
       "object_position": null,
       "order": null,
       "overflow": null,
       "overflow_x": null,
       "overflow_y": null,
       "padding": null,
       "right": null,
       "top": null,
       "visibility": null,
       "width": null
      }
     },
     "f1211ffdd02e45ddab401df1d977babf": {
      "model_module": "@jupyter-widgets/controls",
      "model_module_version": "1.5.0",
      "model_name": "HTMLModel",
      "state": {
       "_dom_classes": [],
       "_model_module": "@jupyter-widgets/controls",
       "_model_module_version": "1.5.0",
       "_model_name": "HTMLModel",
       "_view_count": null,
       "_view_module": "@jupyter-widgets/controls",
       "_view_module_version": "1.5.0",
       "_view_name": "HTMLView",
       "description": "",
       "description_tooltip": null,
       "layout": "IPY_MODEL_8b6bb5c314564d58b6d97cc4867e9c15",
       "placeholder": "​",
       "style": "IPY_MODEL_27358f96c5af4ab9886a04927b10e666",
       "value": "100%"
      }
     },
     "f127e9ae35774c7bab99ada90f29ff99": {
      "model_module": "@jupyter-widgets/controls",
      "model_module_version": "1.5.0",
      "model_name": "FloatProgressModel",
      "state": {
       "_dom_classes": [],
       "_model_module": "@jupyter-widgets/controls",
       "_model_module_version": "1.5.0",
       "_model_name": "FloatProgressModel",
       "_view_count": null,
       "_view_module": "@jupyter-widgets/controls",
       "_view_module_version": "1.5.0",
       "_view_name": "ProgressView",
       "bar_style": "success",
       "description": "",
       "description_tooltip": null,
       "layout": "IPY_MODEL_ea848d0012fc41ceab0ab6bed9b20073",
       "max": 3319.0,
       "min": 0.0,
       "orientation": "horizontal",
       "style": "IPY_MODEL_e6a37eee93774b6ba51e6ab10ef4cfc4",
       "value": 3319.0
      }
     },
     "faee0f15abd741f5b9d6d8aaccdbf603": {
      "model_module": "@jupyter-widgets/base",
      "model_module_version": "1.2.0",
      "model_name": "LayoutModel",
      "state": {
       "_model_module": "@jupyter-widgets/base",
       "_model_module_version": "1.2.0",
       "_model_name": "LayoutModel",
       "_view_count": null,
       "_view_module": "@jupyter-widgets/base",
       "_view_module_version": "1.2.0",
       "_view_name": "LayoutView",
       "align_content": null,
       "align_items": null,
       "align_self": null,
       "border": null,
       "bottom": null,
       "display": null,
       "flex": null,
       "flex_flow": null,
       "grid_area": null,
       "grid_auto_columns": null,
       "grid_auto_flow": null,
       "grid_auto_rows": null,
       "grid_column": null,
       "grid_gap": null,
       "grid_row": null,
       "grid_template_areas": null,
       "grid_template_columns": null,
       "grid_template_rows": null,
       "height": null,
       "justify_content": null,
       "justify_items": null,
       "left": null,
       "margin": null,
       "max_height": null,
       "max_width": null,
       "min_height": null,
       "min_width": null,
       "object_fit": null,
       "object_position": null,
       "order": null,
       "overflow": null,
       "overflow_x": null,
       "overflow_y": null,
       "padding": null,
       "right": null,
       "top": null,
       "visibility": null,
       "width": null
      }
     },
     "fd67620b17764f0cb92e33f080c6bbfb": {
      "model_module": "@jupyter-widgets/base",
      "model_module_version": "1.2.0",
      "model_name": "LayoutModel",
      "state": {
       "_model_module": "@jupyter-widgets/base",
       "_model_module_version": "1.2.0",
       "_model_name": "LayoutModel",
       "_view_count": null,
       "_view_module": "@jupyter-widgets/base",
       "_view_module_version": "1.2.0",
       "_view_name": "LayoutView",
       "align_content": null,
       "align_items": null,
       "align_self": null,
       "border": null,
       "bottom": null,
       "display": null,
       "flex": null,
       "flex_flow": null,
       "grid_area": null,
       "grid_auto_columns": null,
       "grid_auto_flow": null,
       "grid_auto_rows": null,
       "grid_column": null,
       "grid_gap": null,
       "grid_row": null,
       "grid_template_areas": null,
       "grid_template_columns": null,
       "grid_template_rows": null,
       "height": null,
       "justify_content": null,
       "justify_items": null,
       "left": null,
       "margin": null,
       "max_height": null,
       "max_width": null,
       "min_height": null,
       "min_width": null,
       "object_fit": null,
       "object_position": null,
       "order": null,
       "overflow": null,
       "overflow_x": null,
       "overflow_y": null,
       "padding": null,
       "right": null,
       "top": null,
       "visibility": null,
       "width": null
      }
     },
     "fe0fb61feb464c40b4f9d6eba96026bf": {
      "model_module": "@jupyter-widgets/controls",
      "model_module_version": "1.5.0",
      "model_name": "HTMLModel",
      "state": {
       "_dom_classes": [],
       "_model_module": "@jupyter-widgets/controls",
       "_model_module_version": "1.5.0",
       "_model_name": "HTMLModel",
       "_view_count": null,
       "_view_module": "@jupyter-widgets/controls",
       "_view_module_version": "1.5.0",
       "_view_name": "HTMLView",
       "description": "",
       "description_tooltip": null,
       "layout": "IPY_MODEL_fd67620b17764f0cb92e33f080c6bbfb",
       "placeholder": "​",
       "style": "IPY_MODEL_597f8617503a417e911dd41c478f9962",
       "value": "100%"
      }
     },
     "ffcf2cac7d4b4f519e1ac4771b4a3167": {
      "model_module": "@jupyter-widgets/controls",
      "model_module_version": "1.5.0",
      "model_name": "HTMLModel",
      "state": {
       "_dom_classes": [],
       "_model_module": "@jupyter-widgets/controls",
       "_model_module_version": "1.5.0",
       "_model_name": "HTMLModel",
       "_view_count": null,
       "_view_module": "@jupyter-widgets/controls",
       "_view_module_version": "1.5.0",
       "_view_name": "HTMLView",
       "description": "",
       "description_tooltip": null,
       "layout": "IPY_MODEL_183be062c2f440818f45948cee393788",
       "placeholder": "​",
       "style": "IPY_MODEL_dfd9384a93934904998fb4566ebfe798",
       "value": " 54/54 [00:38&lt;00:00,  1.06ba/s]"
      }
     }
    },
    "version_major": 2,
    "version_minor": 0
   }
  }
 },
 "nbformat": 4,
 "nbformat_minor": 5
}
